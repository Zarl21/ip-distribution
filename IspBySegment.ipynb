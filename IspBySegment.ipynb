{
 "cells": [
  {
   "cell_type": "code",
   "execution_count": 6,
   "metadata": {
    "collapsed": true
   },
   "outputs": [],
   "source": [
    "import pandas as pd\n",
    "import pickle"
   ]
  },
  {
   "cell_type": "code",
   "execution_count": 7,
   "metadata": {
    "collapsed": false
   },
   "outputs": [],
   "source": [
    "def group(groups, data): # input: dict of group name to list of members, dict of output from ispByCountry\n",
    "    res = {}\n",
    "    for seg in groups: \n",
    "        res[seg] = {}\n",
    "        li = groups[seg]\n",
    "        isps = []\n",
    "        for country in li:\n",
    "            if data.get(country):\n",
    "                isps = isps + (list(data[country].keys()))\n",
    "        isps = list(set(isps))\n",
    "        \n",
    "        for isp in isps:\n",
    "            res[seg][isp] = 0\n",
    "            for country in li:\n",
    "                if data.get(country) and data[country].get(isp):\n",
    "                    res[seg][isp] = res[seg][isp] + data[country][isp]\n",
    "    return res"
   ]
  },
  {
   "cell_type": "code",
   "execution_count": 22,
   "metadata": {
    "collapsed": true
   },
   "outputs": [],
   "source": [
    "def ispBySegment(filename, pre_calc):\n",
    "    data = pd.read_csv(filename,header=0, usecols=[\"COUNTRYCODE\",\"S1\"]).drop_duplicates()\n",
    "    data = data.fillna(\"\")\n",
    "    res = {}\n",
    "    for country in pre_calc:\n",
    "        index = data.loc[data[\"COUNTRYCODE\"] == country].index.tolist()\n",
    "        if index:\n",
    "            seg = data.ix[index[0],\"S1\"]\n",
    "            if not res.get(seg):\n",
    "                res[seg] = []\n",
    "            res[seg].append(country)\n",
    "        else:\n",
    "            if not res.get(\"OTHER\"):\n",
    "                res[\"OTHER\"] = []\n",
    "            res[\"OTHER\"].append(country)\n",
    "    return group(res,pre_calc)"
   ]
  },
  {
   "cell_type": "code",
   "execution_count": null,
   "metadata": {
    "collapsed": true
   },
   "outputs": [],
   "source": []
  }
 ],
 "metadata": {
  "kernelspec": {
   "display_name": "Python 3",
   "language": "python",
   "name": "python3"
  },
  "language_info": {
   "codemirror_mode": {
    "name": "ipython",
    "version": 3
   },
   "file_extension": ".py",
   "mimetype": "text/x-python",
   "name": "python",
   "nbconvert_exporter": "python",
   "pygments_lexer": "ipython3",
   "version": "3.5.2"
  }
 },
 "nbformat": 4,
 "nbformat_minor": 0
}

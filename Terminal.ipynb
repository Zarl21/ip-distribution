{
 "cells": [
  {
   "cell_type": "code",
   "execution_count": 1,
   "metadata": {
    "collapsed": false
   },
   "outputs": [],
   "source": [
    "import time\n",
    "import pickle\n",
    "import merge\n",
    "import os\n",
    "from multiprocessing import Pool\n",
    "import pandas as pd\n",
    "\n",
    "import nbImport\n",
    "import IspByCountry as isp\n",
    "import ISPBySegment as seg"
   ]
  },
  {
   "cell_type": "code",
   "execution_count": 2,
   "metadata": {
    "collapsed": false
   },
   "outputs": [],
   "source": [
    "files = [\"Data/Split/\"+f for f in os.listdir(\"Data/Split\") if f[-4:] == \".csv\"]\n",
    "groups = \"Data/COMMUNITIES_COUNTRIES_FIXED_V4/COMMUNITIES-Table 1.csv\""
   ]
  },
  {
   "cell_type": "code",
   "execution_count": 3,
   "metadata": {
    "collapsed": false
   },
   "outputs": [
    {
     "name": "stdout",
     "output_type": "stream",
     "text": [
      "Data/Split/data_6.csv finished counting IPs in 1:37:18\n",
      "Data/Split/data_5.csv finished counting IPs in 2:07:35\n",
      "Data/Split/data_7.csv finished counting IPs in 2:26:48\n",
      "Data/Split/data_1.csv finished counting IPs in 3:00:56\n",
      "Data/Split/data_3.csv finished counting IPs in 3:10:04\n",
      "Data/Split/data_4.csv finished counting IPs in 3:40:43\n",
      "Data/Split/data_2.csv finished counting IPs in 11:01:57\n",
      "Pool is done\n"
     ]
    },
    {
     "ename": "StatisticsError",
     "evalue": "mean requires at least one data point",
     "output_type": "error",
     "traceback": [
      "\u001b[0;31m---------------------------------------------------------------------------\u001b[0m",
      "\u001b[0;31mStatisticsError\u001b[0m                           Traceback (most recent call last)",
      "\u001b[0;32m<ipython-input-3-616f31346868>\u001b[0m in \u001b[0;36m<module>\u001b[0;34m()\u001b[0m\n\u001b[1;32m      8\u001b[0m \u001b[0mresult\u001b[0m \u001b[0;34m=\u001b[0m \u001b[0mmerge\u001b[0m\u001b[0;34m.\u001b[0m\u001b[0mmerge_dicts\u001b[0m\u001b[0;34m(\u001b[0m\u001b[0mparts\u001b[0m\u001b[0;34m)\u001b[0m\u001b[0;34m\u001b[0m\u001b[0m\n\u001b[1;32m      9\u001b[0m \u001b[0mpickle\u001b[0m\u001b[0;34m.\u001b[0m\u001b[0mdump\u001b[0m\u001b[0;34m(\u001b[0m\u001b[0mresult\u001b[0m\u001b[0;34m,\u001b[0m \u001b[0mopen\u001b[0m\u001b[0;34m(\u001b[0m\u001b[0;34m\"Results/country_result.p\"\u001b[0m\u001b[0;34m,\u001b[0m\u001b[0;34m\"wb\"\u001b[0m\u001b[0;34m)\u001b[0m\u001b[0;34m)\u001b[0m\u001b[0;34m\u001b[0m\u001b[0m\n\u001b[0;32m---> 10\u001b[0;31m \u001b[0mAS\u001b[0m \u001b[0;34m=\u001b[0m \u001b[0misp\u001b[0m\u001b[0;34m.\u001b[0m\u001b[0manalyticSummary\u001b[0m\u001b[0;34m(\u001b[0m\u001b[0mresult\u001b[0m\u001b[0;34m)\u001b[0m\u001b[0;34m\u001b[0m\u001b[0m\n\u001b[0m\u001b[1;32m     11\u001b[0m \u001b[0mpickle\u001b[0m\u001b[0;34m.\u001b[0m\u001b[0mdump\u001b[0m\u001b[0;34m(\u001b[0m\u001b[0mAS\u001b[0m\u001b[0;34m,\u001b[0m\u001b[0mopen\u001b[0m\u001b[0;34m(\u001b[0m\u001b[0;34m\"Results/AS-country.p\"\u001b[0m\u001b[0;34m,\u001b[0m\u001b[0;34m\"wb\"\u001b[0m\u001b[0;34m)\u001b[0m\u001b[0;34m)\u001b[0m\u001b[0;34m\u001b[0m\u001b[0m\n\u001b[1;32m     12\u001b[0m \u001b[0mseg_r\u001b[0m \u001b[0;34m=\u001b[0m \u001b[0mseg\u001b[0m\u001b[0;34m.\u001b[0m\u001b[0mispBySegment\u001b[0m\u001b[0;34m(\u001b[0m\u001b[0mgroups\u001b[0m\u001b[0;34m,\u001b[0m\u001b[0mresult\u001b[0m\u001b[0;34m)\u001b[0m\u001b[0;34m\u001b[0m\u001b[0m\n",
      "\u001b[0;32m/Users/zach/Documents/Work/Python/ip-distribution/IspByCountry.ipynb\u001b[0m in \u001b[0;36manalyticSummary\u001b[0;34m(data)\u001b[0m\n",
      "\u001b[0;32m/Library/Frameworks/Python.framework/Versions/3.5/lib/python3.5/statistics.py\u001b[0m in \u001b[0;36mmean\u001b[0;34m(data)\u001b[0m\n\u001b[1;32m    328\u001b[0m     \u001b[0mn\u001b[0m \u001b[0;34m=\u001b[0m \u001b[0mlen\u001b[0m\u001b[0;34m(\u001b[0m\u001b[0mdata\u001b[0m\u001b[0;34m)\u001b[0m\u001b[0;34m\u001b[0m\u001b[0m\n\u001b[1;32m    329\u001b[0m     \u001b[0;32mif\u001b[0m \u001b[0mn\u001b[0m \u001b[0;34m<\u001b[0m \u001b[0;36m1\u001b[0m\u001b[0;34m:\u001b[0m\u001b[0;34m\u001b[0m\u001b[0m\n\u001b[0;32m--> 330\u001b[0;31m         \u001b[0;32mraise\u001b[0m \u001b[0mStatisticsError\u001b[0m\u001b[0;34m(\u001b[0m\u001b[0;34m'mean requires at least one data point'\u001b[0m\u001b[0;34m)\u001b[0m\u001b[0;34m\u001b[0m\u001b[0m\n\u001b[0m\u001b[1;32m    331\u001b[0m     \u001b[0mT\u001b[0m\u001b[0;34m,\u001b[0m \u001b[0mtotal\u001b[0m\u001b[0;34m,\u001b[0m \u001b[0mcount\u001b[0m \u001b[0;34m=\u001b[0m \u001b[0m_sum\u001b[0m\u001b[0;34m(\u001b[0m\u001b[0mdata\u001b[0m\u001b[0;34m)\u001b[0m\u001b[0;34m\u001b[0m\u001b[0m\n\u001b[1;32m    332\u001b[0m     \u001b[0;32massert\u001b[0m \u001b[0mcount\u001b[0m \u001b[0;34m==\u001b[0m \u001b[0mn\u001b[0m\u001b[0;34m\u001b[0m\u001b[0m\n",
      "\u001b[0;31mStatisticsError\u001b[0m: mean requires at least one data point"
     ]
    }
   ],
   "source": [
    "# Full DB with AS\n",
    "st_tm = time.time()\n",
    "p = Pool()\n",
    "parts = p.map(isp.ispByCountry,files)\n",
    "print(\"Pool is done\")\n",
    "p.close()\n",
    "p.join()\n",
    "result = merge.merge_dicts(parts)\n",
    "pickle.dump(result, open(\"Results/country_result.p\",\"wb\"))\n",
    "AS = isp.analyticSummary(result)\n",
    "pickle.dump(AS,open(\"Results/AS-country.p\",\"wb\"))\n",
    "seg_r = seg.ispBySegment(groups,result)\n",
    "pickle.dump(seg_r,open(\"Results/seg_result.p\",\"wb\"))\n",
    "pickle.dump(isp.analyticSummary(seg_r),open(\"AS-seg.p\"))\n",
    "delta_tm = time.time() - st_tm\n",
    "m, s = divmod(delta_tm, 60)\n",
    "h, m = divmod(m, 60)\n",
    "print(\"Full finished in %d:%02d:%02d\" % (h, m, s))"
   ]
  },
  {
   "cell_type": "code",
   "execution_count": 10,
   "metadata": {
    "collapsed": false
   },
   "outputs": [
    {
     "name": "stdout",
     "output_type": "stream",
     "text": [
      "Data/Split/data_4.csv finished counting IPs in 0:00:24\n",
      "Data/Split/data_3.csv finished counting IPs in 0:00:28\n",
      "Data/Split/data_7.csv finished counting IPs in 0:00:32\n",
      "Data/Split/data_1.csv finished counting IPs in 0:00:33\n",
      "Data/Split/data_5.csv finished counting IPs in 0:00:32\n",
      "Data/Split/data_2.csv finished counting IPs in 0:00:51\n",
      "Data/Split/data_6.csv finished counting IPs in 0:02:56\n",
      "Pool is done\n",
      "Mobile finished in 0:02:59\n"
     ]
    }
   ],
   "source": [
    "# Mob with AS\n",
    "st_tm = time.time()\n",
    "p = Pool()\n",
    "parts = p.map(isp.ispByCountryMobile,files)\n",
    "print(\"Pool is done\")\n",
    "p.close()\n",
    "p.join()\n",
    "result = merge.merge_dicts(parts)\n",
    "pickle.dump(result, open(\"Results/country_mob_result.p\",\"wb\"))\n",
    "AS = isp.analyticSummary(result)\n",
    "pickle.dump(AS, open(\"Results/AS-country_mob.p\",\"wb\"))\n",
    "seg_r = seg.ispBySegment(groups,result)\n",
    "pickle.dump(seg_r,open(\"Results/seg_mob_result.p\",\"wb\"))\n",
    "pickle.dump(isp.analyticSummary(seg_r),open(\"Results/AS-seg_mob.p\",\"wb\"))\n",
    "delta_tm = time.time() - st_tm\n",
    "m, s = divmod(delta_tm, 60)\n",
    "h, m = divmod(m, 60)\n",
    "print(\"Mobile finished in %d:%02d:%02d\" % (h, m, s))"
   ]
  },
  {
   "cell_type": "code",
   "execution_count": 11,
   "metadata": {
    "collapsed": false
   },
   "outputs": [
    {
     "name": "stdout",
     "output_type": "stream",
     "text": [
      "Data/Split/data_6.csv finished counting IPs in 1:15:32\n",
      "Data/Split/data_5.csv finished counting IPs in 1:39:10\n",
      "Data/Split/data_7.csv finished counting IPs in 2:09:01\n",
      "Data/Split/data_1.csv finished counting IPs in 2:38:55\n",
      "Data/Split/data_3.csv finished counting IPs in 2:48:18\n",
      "Data/Split/data_4.csv finished counting IPs in 3:02:34\n",
      "Data/Split/data_2.csv finished counting IPs in 10:11:25\n",
      "Pool is done\n",
      "No Mobile finished in 10:13:07\n"
     ]
    }
   ],
   "source": [
    "# No Mob with AS\n",
    "st_tm = time.time()\n",
    "p = Pool()\n",
    "parts = p.map(isp.ispByCountryNoMobile,files)\n",
    "print(\"Pool is done\")\n",
    "p.close()\n",
    "p.join()\n",
    "result = merge.merge_dicts(parts)\n",
    "pickle.dump(result, open(\"Results/country_no_mob_result.p\",\"wb\"))\n",
    "AS = isp.analyticSummary(result)\n",
    "pickle.dump(AS, open(\"Results/AS-country_no_mob.p\",\"wb\"))\n",
    "seg_r = seg.ispBySegment(groups,result)\n",
    "pickle.dump(seg_r,open(\"Results/seg_no_mob_result.p\",\"wb\"))\n",
    "pickle.dump(isp.analyticSummary(seg_r),open(\"Results/Segments/AS-seg_no_mob.p\",\"wb\"))\n",
    "delta_tm = time.time() - st_tm\n",
    "m, s = divmod(delta_tm, 60)\n",
    "h, m = divmod(m, 60)\n",
    "print(\"No Mobile finished in %d:%02d:%02d\" % (h, m, s))"
   ]
  },
  {
   "cell_type": "code",
   "execution_count": 3,
   "metadata": {
    "collapsed": false
   },
   "outputs": [],
   "source": [
    "# Sample Code\n",
    "#ispByCountryMobile(\"Data/sample.txt\")\n",
    "#ispByCountryNoMobile(\"Data/sample.txt\")\n",
    "#result = ispByCountry(\"Data/sample.txt\")\n",
    "#os.system('say \"your program has finished\"')\n",
    "#print(\"Done\")\n",
    "\n",
    "# Check for mean > stdev\n",
    "\n",
    "#res = pickle.load(open(\"Results/AS-whole.p\",\"rb\"))\n",
    "#for x in res:\n",
    "#    if res[x][0] > res[x][1]:\n",
    "#        print(x + \" \" + str(res[x]))"
   ]
  },
  {
   "cell_type": "code",
   "execution_count": null,
   "metadata": {
    "collapsed": true
   },
   "outputs": [],
   "source": []
  }
 ],
 "metadata": {
  "kernelspec": {
   "display_name": "Python 3",
   "language": "python",
   "name": "python3"
  },
  "language_info": {
   "codemirror_mode": {
    "name": "ipython",
    "version": 3
   },
   "file_extension": ".py",
   "mimetype": "text/x-python",
   "name": "python",
   "nbconvert_exporter": "python",
   "pygments_lexer": "ipython3",
   "version": "3.5.2"
  }
 },
 "nbformat": 4,
 "nbformat_minor": 0
}

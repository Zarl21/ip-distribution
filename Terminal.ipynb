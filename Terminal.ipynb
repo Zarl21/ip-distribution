{
 "cells": [
  {
   "cell_type": "code",
   "execution_count": 3,
   "metadata": {
    "collapsed": false
   },
   "outputs": [],
   "source": [
    "import time\n",
    "import pickle\n",
    "import merge\n",
    "import os\n",
    "from multiprocessing import Pool\n",
    "\n",
    "import nbImport\n",
    "import IspByCountry as isp"
   ]
  },
  {
   "cell_type": "code",
   "execution_count": null,
   "metadata": {
    "collapsed": true
   },
   "outputs": [],
   "source": [
    "# Sample Code\n",
    "#ispByCountryMobile(\"Data/sample.txt\")\n",
    "#ispByCountryNoMobile(\"Data/sample.txt\")\n",
    "#result = ispByCountry(\"Data/sample.txt\")\n",
    "#os.system('say \"your program has finished\"')\n",
    "#print(\"Done\")"
   ]
  },
  {
   "cell_type": "code",
   "execution_count": null,
   "metadata": {
    "collapsed": true
   },
   "outputs": [],
   "source": [
    "# Full DB with AS\n",
    "st_tm = time.time()\n",
    "p = Pool()\n",
    "files = [\"Data/Split/\"+f for f in os.listdir(\"Data/Split\") if f[-4:] == \".csv\"]\n",
    "parts = p.map(isp.ispByCountry,files)\n",
    "print(\"Pool is done\")\n",
    "p.close()\n",
    "p.join()\n",
    "result = merge.merge_dicts(parts)\n",
    "pickle.dump(result, open(\"Results/result.p\",\"wb\"))\n",
    "AS = isp.analyticSummary(result)\n",
    "pickle.dump(AS,open(\"Results/AS-whole.p\",\"wb\"))\n",
    "delta_tm = time.time() - st_tm\n",
    "m, s = divmod(delta_tm, 60)\n",
    "h, m = divmod(m, 60)\n",
    "print(\"Full finished in %d:%02d:%02d\" % (h, m, s))"
   ]
  },
  {
   "cell_type": "code",
   "execution_count": null,
   "metadata": {
    "collapsed": true
   },
   "outputs": [],
   "source": [
    "# Mob with AS\n",
    "st_tm = time.time()\n",
    "p = Pool()\n",
    "files = [\"Data/Split/\"+f for f in os.listdir(\"Data/Split\") if f[-4:] == \".csv\"]\n",
    "parts = p.map(isp.ispByCountryMobile,files)\n",
    "print(\"Pool is done\")\n",
    "p.close()\n",
    "p.join()\n",
    "result = merge.merge_dicts(parts)\n",
    "pickle.dump(result, open(\"Results/mob_result.p\",\"wb\"))\n",
    "AS = isp.analyticSummary(result)\n",
    "pickle.dump(AS, open(\"Results/AS-mob.p\",\"wb\"))\n",
    "delta_tm = time.time() - st_tm\n",
    "m, s = divmod(delta_tm, 60)\n",
    "h, m = divmod(m, 60)\n",
    "print(\"Mobile finished in %d:%02d:%02d\" % (h, m, s))"
   ]
  },
  {
   "cell_type": "code",
   "execution_count": null,
   "metadata": {
    "collapsed": true
   },
   "outputs": [],
   "source": [
    "# No Mob with AS\n",
    "st_tm = time.time()\n",
    "p = Pool()\n",
    "files = [\"Data/Split/\"+f for f in os.listdir(\"Data/Split\") if f[-4:] == \".csv\"]\n",
    "parts = p.map(isp.ispByCountryNoMobile,files)\n",
    "print(\"Pool is done\")\n",
    "p.close()\n",
    "p.join()\n",
    "result = merge.merge_dicts(parts)\n",
    "pickle.dump(result, open(\"Results/no_mob_result.p\",\"wb\"))\n",
    "AS = isp.analyticSummary(result)\n",
    "pickle.dump(AS, open(\"Results/AS-no_mob.p\",\"wb\"))\n",
    "delta_tm = time.time() - st_tm\n",
    "m, s = divmod(delta_tm, 60)\n",
    "h, m = divmod(m, 60)\n",
    "print(\"No Mobile finished in %d:%02d:%02d\" % (h, m, s))"
   ]
  },
  {
   "cell_type": "code",
   "execution_count": null,
   "metadata": {
    "collapsed": true
   },
   "outputs": [],
   "source": [
    "# Check for mean > stdev\n",
    "res = pickle.load(open(\"Results/AS-whole.p\",\"rb\"))\n",
    "for x in res:\n",
    "    if res[x][0] > res[x][1]:\n",
    "        print(x + \" \" + str(res[x]))"
   ]
  }
 ],
 "metadata": {
  "kernelspec": {
   "display_name": "Python 3",
   "language": "python",
   "name": "python3"
  },
  "language_info": {
   "codemirror_mode": {
    "name": "ipython",
    "version": 3
   },
   "file_extension": ".py",
   "mimetype": "text/x-python",
   "name": "python",
   "nbconvert_exporter": "python",
   "pygments_lexer": "ipython3",
   "version": "3.5.2"
  }
 },
 "nbformat": 4,
 "nbformat_minor": 0
}

{
 "cells": [
  {
   "cell_type": "code",
   "execution_count": null,
   "metadata": {
    "collapsed": false
   },
   "outputs": [],
   "source": [
    "import time\n",
    "import pickle\n",
    "import merge\n",
    "import os\n",
    "from multiprocessing import Pool\n",
    "import pandas as pd\n",
    "import analyticSummary as AS\n",
    "from functools import partial\n",
    "\n",
    "import nbImport\n",
    "import IspByCountry as isp\n",
    "import ISPBySegment as seg"
   ]
  },
  {
   "cell_type": "code",
   "execution_count": null,
   "metadata": {
    "collapsed": false
   },
   "outputs": [],
   "source": [
    "files = [\"Data/Split/\"+f for f in os.listdir(\"Data/Split\") if f[-4:] == \".csv\"]\n",
    "groups = \"Data/COMMUNITIES_COUNTRIES_FIXED_V4/COMMUNITIES-Table 1.csv\""
   ]
  },
  {
   "cell_type": "code",
   "execution_count": null,
   "metadata": {
    "collapsed": false
   },
   "outputs": [],
   "source": [
    "# Full DB with AS\n",
    "st_tm = time.time()\n",
    "p = Pool()\n",
    "parts = p.map(isp.ispByCountry,files)\n",
    "print(\"Pool is done\")\n",
    "p.close()\n",
    "p.join()\n",
    "result = merge.merge_dicts(parts)\n",
    "pickle.dump(result, open(\"Results/Countries/country_result.p\",\"wb\"))\n",
    "pickle.dump(AS.analyticSummary(result),open(\"Results/Countries/AS-country.p\",\"wb\"))\n",
    "seg_r = seg.ispBySegment(groups,result)\n",
    "pickle.dump(seg_r,open(\"Results/Segments/seg_result.p\",\"wb\"))\n",
    "pickle.dump(AS.analyticSummary(seg_r),open(\"Results/Segments/AS-seg.p\",\"wb\"))\n",
    "delta_tm = time.time() - st_tm\n",
    "m, s = divmod(delta_tm, 60)\n",
    "h, m = divmod(m, 60)\n",
    "print(\"Full finished in %d:%02d:%02d\" % (h, m, s))"
   ]
  },
  {
   "cell_type": "code",
   "execution_count": null,
   "metadata": {
    "collapsed": false
   },
   "outputs": [],
   "source": [
    "# Mob with AS\n",
    "st_tm = time.time()\n",
    "p = Pool()\n",
    "parts = p.map(partial(isp.ispByCountry,mobile=True),files)\n",
    "print(\"Pool is done\")\n",
    "p.close()\n",
    "p.join()\n",
    "result = merge.merge_dicts(parts)\n",
    "pickle.dump(result, open(\"Results/Countries/country_mob_result.p\",\"wb\"))\n",
    "pickle.dump(AS.analyticSummary(result), open(\"Results/Countries/AS-country_mob.p\",\"wb\"))\n",
    "seg_r = seg.ispBySegment(groups,result)\n",
    "pickle.dump(seg_r,open(\"Results/Segments/seg_mob_result.p\",\"wb\"))\n",
    "pickle.dump(isp.analyticSummary(seg_r),open(\"Results/Segments/AS-seg_mob.p\",\"wb\"))\n",
    "delta_tm = time.time() - st_tm\n",
    "m, s = divmod(delta_tm, 60)\n",
    "h, m = divmod(m, 60)\n",
    "print(\"Mobile finished in %d:%02d:%02d\" % (h, m, s))"
   ]
  },
  {
   "cell_type": "code",
   "execution_count": null,
   "metadata": {
    "collapsed": false
   },
   "outputs": [],
   "source": [
    "# No Mob with AS\n",
    "st_tm = time.time()\n",
    "p = Pool()\n",
    "parts = p.map(partial(isp.ispByCountry,mobile=False),files)\n",
    "print(\"Pool is done\")\n",
    "p.close()\n",
    "p.join()\n",
    "result = merge.merge_dicts(parts)\n",
    "pickle.dump(result, open(\"Results/Countries/country_no_mob_result.p\",\"wb\"))\n",
    "pickle.dump(AS.analyticSummary(result), open(\"Results/Countries/AS-country_no_mob.p\",\"wb\"))\n",
    "seg_r = seg.ispBySegment(groups,result)\n",
    "pickle.dump(seg_r,open(\"Results/Segments/seg_no_mob_result.p\",\"wb\"))\n",
    "pickle.dump(isp.analyticSummary(seg_r),open(\"Results/Segments/AS-seg_no_mob.p\",\"wb\"))\n",
    "delta_tm = time.time() - st_tm\n",
    "m, s = divmod(delta_tm, 60)\n",
    "h, m = divmod(m, 60)\n",
    "print(\"No Mobile finished in %d:%02d:%02d\" % (h, m, s))"
   ]
  },
  {
   "cell_type": "code",
   "execution_count": null,
   "metadata": {
    "collapsed": false
   },
   "outputs": [],
   "source": [
    "# Sample Code\n",
    "#ispByCountryMobile(\"Data/sample.txt\")\n",
    "#ispByCountryNoMobile(\"Data/sample.txt\")\n",
    "#result = ispByCountry(\"Data/sample.txt\")\n",
    "#os.system('say \"your program has finished\"')\n",
    "#print(\"Done\")"
   ]
  },
  {
   "cell_type": "code",
   "execution_count": null,
   "metadata": {
    "collapsed": true
   },
   "outputs": [],
   "source": [
    "# Check for mean > stdev\n",
    "\n",
    "#res = pickle.load(open(\"Results/AS-whole.p\",\"rb\"))\n",
    "#for x in res:\n",
    "#    if res[x][0] > res[x][1]:\n",
    "#        print(x + \" \" + str(res[x]))"
   ]
  }
 ],
 "metadata": {
  "kernelspec": {
   "display_name": "Python 3",
   "language": "python",
   "name": "python3"
  },
  "language_info": {
   "codemirror_mode": {
    "name": "ipython",
    "version": 3
   },
   "file_extension": ".py",
   "mimetype": "text/x-python",
   "name": "python",
   "nbconvert_exporter": "python",
   "pygments_lexer": "ipython3",
   "version": "3.5.2"
  }
 },
 "nbformat": 4,
 "nbformat_minor": 0
}

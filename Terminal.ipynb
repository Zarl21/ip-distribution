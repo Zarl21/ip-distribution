{
 "cells": [
  {
   "cell_type": "code",
   "execution_count": 1,
   "metadata": {
    "collapsed": false
   },
   "outputs": [],
   "source": [
    "import time\n",
    "import merge\n",
    "import os\n",
    "from multiprocessing import Pool\n",
    "import pandas as pd\n",
    "import analyticSummary as AS\n",
    "from functools import partial\n",
    "import json\n",
    "\n",
    "import nbImport\n",
    "import IspByCountry as isp\n",
    "import ISPBySegment as seg"
   ]
  },
  {
   "cell_type": "code",
   "execution_count": 2,
   "metadata": {
    "collapsed": false
   },
   "outputs": [],
   "source": [
    "files = [\"Data/Split/\"+f for f in os.listdir(\"Data/Split\") if f[-4:] == \".csv\"]\n",
    "groups = \"Data/COMMUNITIES_COUNTRIES_FIXED_V4/COMMUNITIES-Table 1.csv\""
   ]
  },
  {
   "cell_type": "code",
   "execution_count": null,
   "metadata": {
    "collapsed": false
   },
   "outputs": [],
   "source": [
    "# Mob with AS\n",
    "st_tm = time.time()\n",
    "p = Pool()\n",
    "parts = p.map(partial(isp.ispByCountry,mobile=True),files)\n",
    "print(\"Pool is done\")\n",
    "p.close()\n",
    "p.join()\n",
    "result = merge.merge_dicts(parts)\n",
    "json.dump(result, open(\"Results/Countries/country_mob_result.json\",\"w\"),indent=4)\n",
    "json.dump(AS.analyticSummary(result), open(\"Results/Countries/AS-country_mob.json\",\"w\"),indent=4)\n",
    "seg_r = seg.ispBySegment(groups,result)\n",
    "json.dump(seg_r,open(\"Results/Segments/seg_mob_result.json\",\"w\"),indent=4)\n",
    "json.dump(AS.analyticSummary(seg_r),open(\"Results/Segments/AS-seg_mob.json\",\"w\"),indent=4)\n",
    "delta_tm = time.time() - st_tm\n",
    "m, s = divmod(delta_tm, 60)\n",
    "h, m = divmod(m, 60)\n",
    "print(\"Mobile finished in %d:%02d:%02d\" % (h, m, s))"
   ]
  },
  {
   "cell_type": "code",
   "execution_count": 3,
   "metadata": {
    "collapsed": false
   },
   "outputs": [
    {
     "name": "stdout",
     "output_type": "stream",
     "text": [
      "Data/Split/data_6.csv finished counting IPs in 1:16:50\n",
      "Data/Split/data_5.csv finished counting IPs in 1:40:10\n",
      "Data/Split/data_7.csv finished counting IPs in 1:56:05\n",
      "Data/Split/data_1.csv finished counting IPs in 2:23:22\n",
      "Data/Split/data_3.csv finished counting IPs in 2:31:20\n",
      "Data/Split/data_4.csv finished counting IPs in 2:58:36\n",
      "Data/Split/data_2.csv finished counting IPs in 9:12:35\n",
      "Pool is done\n",
      "Full finished in 9:14:35\n"
     ]
    }
   ],
   "source": [
    "# Full DB with AS\n",
    "st_tm = time.time()\n",
    "p = Pool()\n",
    "parts = p.map(isp.ispByCountry,files)\n",
    "print(\"Pool is done\")\n",
    "p.close()\n",
    "p.join()\n",
    "result = merge.merge_dicts(parts)\n",
    "json.dump(result, open(\"Results/Countries/country_result.json\",\"w\"),indent=4)\n",
    "json.dump(AS.analyticSummary(result),open(\"Results/Countries/AS-country.json\",\"w\"),indent=4)\n",
    "seg_r = seg.ispBySegment(groups,result)\n",
    "json.dump(seg_r,open(\"Results/Segments/seg_result.json\",\"w\"),indent=4)\n",
    "json.dump(AS.analyticSummary(seg_r),open(\"Results/Segments/AS-seg.json\",\"w\"),indent=4)\n",
    "delta_tm = time.time() - st_tm\n",
    "m, s = divmod(delta_tm, 60)\n",
    "h, m = divmod(m, 60)\n",
    "print(\"Full finished in %d:%02d:%02d\" % (h, m, s))"
   ]
  },
  {
   "cell_type": "code",
   "execution_count": 4,
   "metadata": {
    "collapsed": true
   },
   "outputs": [
    {
     "name": "stdout",
     "output_type": "stream",
     "text": [
      "Data/Split/data_6.csv finished counting IPs in 1:00:30\n",
      "Data/Split/data_5.csv finished counting IPs in 1:18:57\n",
      "Data/Split/data_7.csv finished counting IPs in 1:40:45\n",
      "Data/Split/data_1.csv finished counting IPs in 2:05:10\n",
      "Data/Split/data_3.csv finished counting IPs in 2:10:37\n",
      "Data/Split/data_4.csv finished counting IPs in 2:24:03\n",
      "Data/Split/data_2.csv finished counting IPs in 8:33:41\n",
      "Pool is done\n"
     ]
    },
    {
     "ename": "AttributeError",
     "evalue": "'module' object has no attribute 'analyticSummary'",
     "output_type": "error",
     "traceback": [
      "\u001b[0;31m---------------------------------------------------------------------------\u001b[0m",
      "\u001b[0;31mAttributeError\u001b[0m                            Traceback (most recent call last)",
      "\u001b[0;32m<ipython-input-4-1b8691e7bc76>\u001b[0m in \u001b[0;36m<module>\u001b[0;34m()\u001b[0m\n\u001b[1;32m     11\u001b[0m \u001b[0mseg_r\u001b[0m \u001b[0;34m=\u001b[0m \u001b[0mseg\u001b[0m\u001b[0;34m.\u001b[0m\u001b[0mispBySegment\u001b[0m\u001b[0;34m(\u001b[0m\u001b[0mgroups\u001b[0m\u001b[0;34m,\u001b[0m\u001b[0mresult\u001b[0m\u001b[0;34m)\u001b[0m\u001b[0;34m\u001b[0m\u001b[0m\n\u001b[1;32m     12\u001b[0m \u001b[0mjson\u001b[0m\u001b[0;34m.\u001b[0m\u001b[0mdump\u001b[0m\u001b[0;34m(\u001b[0m\u001b[0mseg_r\u001b[0m\u001b[0;34m,\u001b[0m\u001b[0mopen\u001b[0m\u001b[0;34m(\u001b[0m\u001b[0;34m\"Results/Segments/seg_no_mob_result.json\"\u001b[0m\u001b[0;34m,\u001b[0m\u001b[0;34m\"w\"\u001b[0m\u001b[0;34m)\u001b[0m\u001b[0;34m,\u001b[0m\u001b[0mindent\u001b[0m\u001b[0;34m=\u001b[0m\u001b[0;36m4\u001b[0m\u001b[0;34m)\u001b[0m\u001b[0;34m\u001b[0m\u001b[0m\n\u001b[0;32m---> 13\u001b[0;31m \u001b[0mjson\u001b[0m\u001b[0;34m.\u001b[0m\u001b[0mdump\u001b[0m\u001b[0;34m(\u001b[0m\u001b[0misp\u001b[0m\u001b[0;34m.\u001b[0m\u001b[0manalyticSummary\u001b[0m\u001b[0;34m(\u001b[0m\u001b[0mseg_r\u001b[0m\u001b[0;34m)\u001b[0m\u001b[0;34m,\u001b[0m\u001b[0mopen\u001b[0m\u001b[0;34m(\u001b[0m\u001b[0;34m\"Results/Segments/AS-seg_no_mob.json\"\u001b[0m\u001b[0;34m,\u001b[0m\u001b[0;34m\"w\"\u001b[0m\u001b[0;34m)\u001b[0m\u001b[0;34m,\u001b[0m\u001b[0mindent\u001b[0m\u001b[0;34m=\u001b[0m\u001b[0;36m4\u001b[0m\u001b[0;34m)\u001b[0m\u001b[0;34m\u001b[0m\u001b[0m\n\u001b[0m\u001b[1;32m     14\u001b[0m \u001b[0mdelta_tm\u001b[0m \u001b[0;34m=\u001b[0m \u001b[0mtime\u001b[0m\u001b[0;34m.\u001b[0m\u001b[0mtime\u001b[0m\u001b[0;34m(\u001b[0m\u001b[0;34m)\u001b[0m \u001b[0;34m-\u001b[0m \u001b[0mst_tm\u001b[0m\u001b[0;34m\u001b[0m\u001b[0m\n\u001b[1;32m     15\u001b[0m \u001b[0mm\u001b[0m\u001b[0;34m,\u001b[0m \u001b[0ms\u001b[0m \u001b[0;34m=\u001b[0m \u001b[0mdivmod\u001b[0m\u001b[0;34m(\u001b[0m\u001b[0mdelta_tm\u001b[0m\u001b[0;34m,\u001b[0m \u001b[0;36m60\u001b[0m\u001b[0;34m)\u001b[0m\u001b[0;34m\u001b[0m\u001b[0m\n",
      "\u001b[0;31mAttributeError\u001b[0m: 'module' object has no attribute 'analyticSummary'"
     ]
    }
   ],
   "source": [
    "# No Mob with AS\n",
    "st_tm = time.time()\n",
    "p = Pool()\n",
    "parts = p.map(partial(isp.ispByCountry,mobile=False),files)\n",
    "print(\"Pool is done\")\n",
    "p.close()\n",
    "p.join()\n",
    "result = merge.merge_dicts(parts)\n",
    "json.dump(result, open(\"Results/Countries/country_no_mob_result.json\",\"w\"),indent=4)\n",
    "json.dump(AS.analyticSummary(result), open(\"Results/Countries/AS-country_no_mob.json\",\"w\"),indent=4)\n",
    "seg_r = seg.ispBySegment(groups,result)\n",
    "json.dump(seg_r,open(\"Results/Segments/seg_no_mob_result.json\",\"w\"),indent=4)\n",
    "json.dump(AS.analyticSummary(seg_r),open(\"Results/Segments/AS-seg_no_mob.json\",\"w\"),indent=4)\n",
    "delta_tm = time.time() - st_tm\n",
    "m, s = divmod(delta_tm, 60)\n",
    "h, m = divmod(m, 60)\n",
    "print(\"No Mobile finished in %d:%02d:%02d\" % (h, m, s))\n"
   ]
  },
  {
   "cell_type": "code",
   "execution_count": null,
   "metadata": {
    "collapsed": false
   },
   "outputs": [],
   "source": [
    "# Sample Code\n",
    "#ispByCountryMobile(\"Data/sample.txt\")\n",
    "#ispByCountryNoMobile(\"Data/sample.txt\")\n",
    "#result = ispByCountry(\"Data/sample.txt\")\n",
    "#os.system('say \"your program has finished\"')\n",
    "#print(\"Done\")"
   ]
  },
  {
   "cell_type": "code",
   "execution_count": null,
   "metadata": {
    "collapsed": true
   },
   "outputs": [],
   "source": [
    "# Check for mean > stdev\n",
    "\n",
    "#res = pickle.load(open(\"Results/AS-whole.p\",\"rb\"))\n",
    "#for x in res:\n",
    "#    if res[x][0] > res[x][1]:\n",
    "#        print(x + \" \" + str(res[x]))"
   ]
  },
  {
   "cell_type": "code",
   "execution_count": 5,
   "metadata": {
    "collapsed": true
   },
   "outputs": [],
   "source": [
    "json.dump(AS.analyticSummary(seg_r),open(\"Results/Segments/AS-seg_no_mob.json\",\"w\"),indent=4)"
   ]
  },
  {
   "cell_type": "code",
   "execution_count": null,
   "metadata": {
    "collapsed": true
   },
   "outputs": [],
   "source": []
  }
 ],
 "metadata": {
  "kernelspec": {
   "display_name": "Python 2",
   "language": "python",
   "name": "python2"
  },
  "language_info": {
   "codemirror_mode": {
    "name": "ipython",
    "version": 2
   },
   "file_extension": ".py",
   "mimetype": "text/x-python",
   "name": "python",
   "nbconvert_exporter": "python",
   "pygments_lexer": "ipython2",
   "version": "2.7.11"
  }
 },
 "nbformat": 4,
 "nbformat_minor": 0
}

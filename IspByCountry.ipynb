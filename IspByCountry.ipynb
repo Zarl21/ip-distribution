{
 "cells": [
  {
   "cell_type": "code",
   "execution_count": 14,
   "metadata": {
    "collapsed": true
   },
   "outputs": [],
   "source": [
    "import pandas as pd\n",
    "import os\n",
    "from multiprocessing import Pool\n",
    "import merge\n",
    "import pickle\n",
    "import time"
   ]
  },
  {
   "cell_type": "code",
   "execution_count": 17,
   "metadata": {
    "collapsed": true
   },
   "outputs": [],
   "source": [
    "def ispByCountry(filename):\n",
    "    start_tm = time.time()\n",
    "    labels=[\"IP From\",\"IP To\",\"Country Code\",\"Country Name\",\"Region Name\",\"City Name\",\"Latitude\",\"Longitude\",\n",
    "                \"Zipcode\",\"Time Zone\",\"ISP\",\"Domain\",\"Net speed\",\"IDD Code\",\"Area Code\",\"Weather Station Code\",\n",
    "                \"Weather Station Name\",\"MCC\",\"MNC\",\"Mobile Brand\",\"Elevation\",\"Usage Type (Reserved)\"]\n",
    "    data = pd.read_csv(\"Data/\"+filename,header=None,names=labels,skiprows=1, usecols=[\"IP From\",\"IP To\",\"Country Name\",\"ISP\"])\n",
    "    \n",
    "    countries = data.loc[:,\"Country Name\"]\n",
    "    countries = countries.drop_duplicates()\n",
    "    #country_dict = {key:[] for key in countries.tolist()}\n",
    "\n",
    "    unique_counts = {}\n",
    "    distrib_counts = {}\n",
    "    for country in countries.tolist():\n",
    "        df = data.loc[data[\"Country Name\"] == country]\n",
    "        isp_list = df.loc[0:,\"ISP\"].drop_duplicates().tolist()\n",
    "        #country_dict[country] = isp_list\n",
    "        unique_counts[country] = len(isp_list)\n",
    "        \n",
    "        distrib_counts[country] = {}\n",
    "        for isp in isp_list:\n",
    "            selected = df.loc[df[\"ISP\"] == isp]\n",
    "            \n",
    "            ip_cnt = 0\n",
    "            for start,end in zip(selected[\"IP From\"],selected[\"IP To\"]):\n",
    "                ip_cnt = ip_cnt + end - start + 1 #+1 to make it inclusive\n",
    "                \n",
    "            distrib_counts[country][isp] = ip_cnt\n",
    "    delta_tm = time.time() - start_tm\n",
    "    m, s = divmod(delta_tm, 60)\n",
    "    h, m = divmod(m, 60)\n",
    "    print(filename + \" finished counting IPs in %d:%02d:%02d\" % (h, m, s))\n",
    "\n",
    "    #return (unique_counts, distrib_counts)\n",
    "    pickle.dump(distrib_counts,open(\"Results/\"+filename.split(\".\")[0]+\".p\",\"wb\"))\n",
    "    return distrib_counts"
   ]
  },
  {
   "cell_type": "code",
   "execution_count": 18,
   "metadata": {
    "collapsed": false
   },
   "outputs": [
    {
     "name": "stdout",
     "output_type": "stream",
     "text": [
      "sample.txt finished counting IPs in 0:00:00\n",
      "Done\n"
     ]
    }
   ],
   "source": [
    "#result = ispByCountry(\"sample.txt\")\n",
    "result = ispByCountry(\"data_1.csv\")\n",
    "#os.system('say \"your program has finished\"')\n",
    "print(\"Done\")"
   ]
  },
  {
   "cell_type": "code",
   "execution_count": null,
   "metadata": {
    "collapsed": true
   },
   "outputs": [],
   "source": [
    "p = Pool()\n",
    "parts = p.map(ispByCountry,['data_2.csv','data_3.csv','data_4.csv','data_5.csv','data_6.csv','data_1.csv','data_7.csv'])\n",
    "print(\"Pool is done\")"
   ]
  },
  {
   "cell_type": "code",
   "execution_count": null,
   "metadata": {
    "collapsed": true
   },
   "outputs": [],
   "source": [
    "p.close()\n",
    "p.join()\n",
    "result = merge.merge_dicts(parts + [test])\n",
    "pickle.dump(result, open(\"result.p\",\"wb\"))\n",
    "#result"
   ]
  },
  {
   "cell_type": "code",
   "execution_count": null,
   "metadata": {
    "collapsed": true
   },
   "outputs": [],
   "source": []
  }
 ],
 "metadata": {
  "kernelspec": {
   "display_name": "Python 3",
   "language": "python",
   "name": "python3"
  },
  "language_info": {
   "codemirror_mode": {
    "name": "ipython",
    "version": 3
   },
   "file_extension": ".py",
   "mimetype": "text/x-python",
   "name": "python",
   "nbconvert_exporter": "python",
   "pygments_lexer": "ipython3",
   "version": "3.5.2"
  }
 },
 "nbformat": 4,
 "nbformat_minor": 0
}

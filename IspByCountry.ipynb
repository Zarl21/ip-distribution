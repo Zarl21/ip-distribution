{
 "cells": [
  {
   "cell_type": "code",
   "execution_count": 1,
   "metadata": {
    "collapsed": false
   },
   "outputs": [],
   "source": [
    "import pandas as pd\n",
    "import pickle\n",
    "import statistics as stat\n",
    "import time"
   ]
  },
  {
   "cell_type": "code",
   "execution_count": 2,
   "metadata": {
    "collapsed": false
   },
   "outputs": [],
   "source": [
    "def ispByCountry(filename):\n",
    "    start_tm = time.time()\n",
    "    labels=[\"IP From\",\"IP To\",\"Country Code\",\"Country Name\",\"Region Name\",\"City Name\",\"Latitude\",\"Longitude\",\n",
    "                \"Zipcode\",\"Time Zone\",\"ISP\",\"Domain\",\"Net speed\",\"IDD Code\",\"Area Code\",\"Weather Station Code\",\n",
    "                \"Weather Station Name\",\"MCC\",\"MNC\",\"Mobile Brand\",\"Elevation\",\"Usage Type (Reserved)\"]\n",
    "    data = pd.read_csv(filename,header=None,names=labels, usecols=[\"IP From\",\"IP To\",\"Country Code\",\"ISP\"])\n",
    "    \n",
    "    countries = data.loc[:,\"Country Code\"]\n",
    "    countries = countries.drop_duplicates()\n",
    "    #country_dict = {key:[] for key in countries.tolist()}\n",
    "\n",
    "    unique_counts = {}\n",
    "    distrib_counts = {}\n",
    "    for country in countries.tolist():\n",
    "        df = data.loc[data[\"Country Code\"] == country]\n",
    "        isp_list = df.loc[0:,\"ISP\"].drop_duplicates().tolist()\n",
    "        #country_dict[country] = isp_list\n",
    "        unique_counts[country] = len(isp_list)\n",
    "        \n",
    "        distrib_counts[country] = {}\n",
    "        for isp in isp_list:\n",
    "            selected = df.loc[df[\"ISP\"] == isp]\n",
    "            \n",
    "            ip_cnt = 0\n",
    "            for start,end in zip(selected[\"IP From\"],selected[\"IP To\"]):\n",
    "                ip_cnt = ip_cnt + end - start + 1 #+1 to make it inclusive\n",
    "                \n",
    "            distrib_counts[country][isp] = int(ip_cnt) #To deal with overflow/rounding of numpy type int64\n",
    "            \n",
    "    delta_tm = time.time() - start_tm\n",
    "    m, s = divmod(delta_tm, 60)\n",
    "    h, m = divmod(m, 60)\n",
    "    print(filename + \" finished counting IPs in %d:%02d:%02d\" % (h, m, s))\n",
    "\n",
    "    #return (unique_counts, distrib_counts)\n",
    "    pickle.dump(distrib_counts,open(\"Results/Country/\"+filename.split(\"/\")[-1].split(\".\")[0]+\".p\",\"wb\"))\n",
    "    return distrib_counts"
   ]
  },
  {
   "cell_type": "code",
   "execution_count": 5,
   "metadata": {
    "collapsed": false
   },
   "outputs": [],
   "source": [
    "def ispByCountryMobile(filename):\n",
    "    start_tm = time.time()\n",
    "    labels=[\"IP From\",\"IP To\",\"Country Code\",\"Country Name\",\"Region Name\",\"City Name\",\"Latitude\",\"Longitude\",\n",
    "                \"Zipcode\",\"Time Zone\",\"ISP\",\"Domain\",\"Net speed\",\"IDD Code\",\"Area Code\",\"Weather Station Code\",\n",
    "                \"Weather Station Name\",\"MCC\",\"MNC\",\"Mobile Brand\",\"Elevation\",\"Usage Type (Reserved)\"]\n",
    "    data = pd.read_csv(filename,header=None,names=labels, usecols=[\"IP From\",\"IP To\",\"Country Code\",\"ISP\",\"Usage Type (Reserved)\"])\n",
    "    data = data.loc[data[\"Usage Type (Reserved)\"].str.contains(\"MOB\")]\n",
    "    \n",
    "    countries = data.loc[:,\"Country Code\"]\n",
    "    countries = countries.drop_duplicates()\n",
    "    #country_dict = {key:[] for key in countries.tolist()}\n",
    "\n",
    "    unique_counts = {}\n",
    "    distrib_counts = {}\n",
    "    for country in countries.tolist():\n",
    "        df = data.loc[data[\"Country Code\"] == country]\n",
    "        isp_list = df.loc[0:,\"ISP\"].drop_duplicates().tolist()\n",
    "        #country_dict[country] = isp_list\n",
    "        unique_counts[country] = len(isp_list)\n",
    "        \n",
    "        distrib_counts[country] = {}\n",
    "        for isp in isp_list:\n",
    "            selected = df.loc[df[\"ISP\"] == isp]\n",
    "            \n",
    "            ip_cnt = 0\n",
    "            for start,end in zip(selected[\"IP From\"],selected[\"IP To\"]):\n",
    "                ip_cnt = ip_cnt + end - start + 1 #+1 to make it inclusive\n",
    "                \n",
    "            distrib_counts[country][isp] = int(ip_cnt) #To deal with overflow/rounding of numpy type int64\n",
    "    delta_tm = time.time() - start_tm\n",
    "    m, s = divmod(delta_tm, 60)\n",
    "    h, m = divmod(m, 60)\n",
    "    print(filename + \" finished counting IPs in %d:%02d:%02d\" % (h, m, s))\n",
    "\n",
    "    #return (unique_counts, distrib_counts)\n",
    "    pickle.dump(distrib_counts,open(\"Results/Country/mob_\"+filename.split(\"/\")[-1].split(\".\")[0]+\".p\",\"wb\"))\n",
    "    return distrib_counts"
   ]
  },
  {
   "cell_type": "code",
   "execution_count": 1,
   "metadata": {
    "collapsed": true
   },
   "outputs": [],
   "source": [
    "def ispByCountryNoMobile(filename):\n",
    "    start_tm = time.time()\n",
    "    labels=[\"IP From\",\"IP To\",\"Country Code\",\"Country Name\",\"Region Name\",\"City Name\",\"Latitude\",\"Longitude\",\n",
    "                \"Zipcode\",\"Time Zone\",\"ISP\",\"Domain\",\"Net speed\",\"IDD Code\",\"Area Code\",\"Weather Station Code\",\n",
    "                \"Weather Station Name\",\"MCC\",\"MNC\",\"Mobile Brand\",\"Elevation\",\"Usage Type (Reserved)\"]\n",
    "    data = pd.read_csv(filename,header=None,names=labels, usecols=[\"IP From\",\"IP To\",\"Country Code\",\"ISP\",\"Usage Type (Reserved)\"])\n",
    "    data = data.loc[~data[\"Usage Type (Reserved)\"].str.contains(\"MOB\")]\n",
    "    \n",
    "    countries = data.loc[:,\"Country Code\"]\n",
    "    countries = countries.drop_duplicates()\n",
    "    #country_dict = {key:[] for key in countries.tolist()}\n",
    "\n",
    "    unique_counts = {}\n",
    "    distrib_counts = {}\n",
    "    for country in countries.tolist():\n",
    "        df = data.loc[data[\"Country Code\"] == country]\n",
    "        isp_list = df.loc[0:,\"ISP\"].drop_duplicates().tolist()\n",
    "        #country_dict[country] = isp_list\n",
    "        unique_counts[country] = len(isp_list)\n",
    "        \n",
    "        distrib_counts[country] = {}\n",
    "        for isp in isp_list:\n",
    "            selected = df.loc[df[\"ISP\"] == isp]\n",
    "            \n",
    "            ip_cnt = 0\n",
    "            for start,end in zip(selected[\"IP From\"],selected[\"IP To\"]):\n",
    "                ip_cnt = ip_cnt + end - start + 1 #+1 to make it inclusive\n",
    "                \n",
    "            distrib_counts[country][isp] = int(ip_cnt) #To deal with overflow/rounding of numpy type int64\n",
    "    delta_tm = time.time() - start_tm\n",
    "    m, s = divmod(delta_tm, 60)\n",
    "    h, m = divmod(m, 60)\n",
    "    print(filename + \" finished counting IPs in %d:%02d:%02d\" % (h, m, s))\n",
    "\n",
    "    #return (unique_counts, distrib_counts)\n",
    "    pickle.dump(distrib_counts,open(\"Results/Country/no_mob_\"+filename.split(\"/\")[-1].split(\".\")[0]+\".p\",\"wb\"))\n",
    "    return distrib_counts"
   ]
  },
  {
   "cell_type": "code",
   "execution_count": 4,
   "metadata": {
    "collapsed": false
   },
   "outputs": [],
   "source": [
    "def analyticSummary(data):\n",
    "    result = {}\n",
    "    for country in data:\n",
    "        val = list(data[country].values())\n",
    "        try:\n",
    "            avg = stat.mean(val)\n",
    "        except stat.StatisticsError:\n",
    "            avg = 0\n",
    "        try:\n",
    "            std = stat.stdev(val)\n",
    "        except stat.StatisticsError:\n",
    "            std = 0\n",
    "        except AssertionError:\n",
    "            print(country)\n",
    "            pickle.dump(val,open(country+\".p\",\"wb\"))\n",
    "            std = None\n",
    "        result[country] = (avg,std)\n",
    "    return result"
   ]
  },
  {
   "cell_type": "code",
   "execution_count": null,
   "metadata": {
    "collapsed": true
   },
   "outputs": [],
   "source": []
  }
 ],
 "metadata": {
  "kernelspec": {
   "display_name": "Python 3",
   "language": "python",
   "name": "python3"
  },
  "language_info": {
   "codemirror_mode": {
    "name": "ipython",
    "version": 3
   },
   "file_extension": ".py",
   "mimetype": "text/x-python",
   "name": "python",
   "nbconvert_exporter": "python",
   "pygments_lexer": "ipython3",
   "version": "3.5.2"
  }
 },
 "nbformat": 4,
 "nbformat_minor": 0
}

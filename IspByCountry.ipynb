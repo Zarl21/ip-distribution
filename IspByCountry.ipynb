{
 "cells": [
  {
   "cell_type": "code",
   "execution_count": 1,
   "metadata": {
    "collapsed": true
   },
   "outputs": [],
   "source": [
    "import pandas as pd\n",
    "import os\n",
    "from multiprocessing import Pool\n",
    "import merge\n",
    "import pickle\n",
    "import time"
   ]
  },
  {
   "cell_type": "code",
   "execution_count": 2,
   "metadata": {
    "collapsed": true
   },
   "outputs": [],
   "source": [
    "def ispByCountry(filename):\n",
    "    start_tm = time.time()\n",
    "    labels=[\"IP From\",\"IP To\",\"Country Code\",\"Country Name\",\"Region Name\",\"City Name\",\"Latitude\",\"Longitude\",\n",
    "                \"Zipcode\",\"Time Zone\",\"ISP\",\"Domain\",\"Net speed\",\"IDD Code\",\"Area Code\",\"Weather Station Code\",\n",
    "                \"Weather Station Name\",\"MCC\",\"MNC\",\"Mobile Brand\",\"Elevation\",\"Usage Type (Reserved)\"]\n",
    "    data = pd.read_csv(filename,header=None,names=labels, usecols=[\"IP From\",\"IP To\",\"Country Name\",\"ISP\"])\n",
    "    \n",
    "    countries = data.loc[:,\"Country Name\"]\n",
    "    countries = countries.drop_duplicates()\n",
    "    #country_dict = {key:[] for key in countries.tolist()}\n",
    "\n",
    "    unique_counts = {}\n",
    "    distrib_counts = {}\n",
    "    for country in countries.tolist():\n",
    "        df = data.loc[data[\"Country Name\"] == country]\n",
    "        isp_list = df.loc[0:,\"ISP\"].drop_duplicates().tolist()\n",
    "        #country_dict[country] = isp_list\n",
    "        unique_counts[country] = len(isp_list)\n",
    "        \n",
    "        distrib_counts[country] = {}\n",
    "        for isp in isp_list:\n",
    "            selected = df.loc[df[\"ISP\"] == isp]\n",
    "            \n",
    "            ip_cnt = 0\n",
    "            for start,end in zip(selected[\"IP From\"],selected[\"IP To\"]):\n",
    "                ip_cnt = ip_cnt + end - start + 1 #+1 to make it inclusive\n",
    "                \n",
    "            distrib_counts[country][isp] = ip_cnt\n",
    "    delta_tm = time.time() - start_tm\n",
    "    m, s = divmod(delta_tm, 60)\n",
    "    h, m = divmod(m, 60)\n",
    "    print(filename + \" finished counting IPs in %d:%02d:%02d\" % (h, m, s))\n",
    "\n",
    "    #return (unique_counts, distrib_counts)\n",
    "    pickle.dump(distrib_counts,open(\"Results/\"+filename.split(\"/\")[-1].split(\".\")[0]+\".p\",\"wb\"))\n",
    "    return distrib_counts"
   ]
  },
  {
   "cell_type": "code",
   "execution_count": 3,
   "metadata": {
    "collapsed": false
   },
   "outputs": [],
   "source": [
    "def ispByCountryMobile(filename):\n",
    "    start_tm = time.time()\n",
    "    labels=[\"IP From\",\"IP To\",\"Country Code\",\"Country Name\",\"Region Name\",\"City Name\",\"Latitude\",\"Longitude\",\n",
    "                \"Zipcode\",\"Time Zone\",\"ISP\",\"Domain\",\"Net speed\",\"IDD Code\",\"Area Code\",\"Weather Station Code\",\n",
    "                \"Weather Station Name\",\"MCC\",\"MNC\",\"Mobile Brand\",\"Elevation\",\"Usage Type (Reserved)\"]\n",
    "    data = pd.read_csv(filename,header=None,names=labels, usecols=[\"IP From\",\"IP To\",\"Country Name\",\"ISP\",\"Usage Type (Reserved)\"])\n",
    "    data = data.loc[data[\"Usage Type (Reserved)\"] == \"MOB\"]\n",
    "    \n",
    "    countries = data.loc[:,\"Country Name\"]\n",
    "    countries = countries.drop_duplicates()\n",
    "    #country_dict = {key:[] for key in countries.tolist()}\n",
    "\n",
    "    unique_counts = {}\n",
    "    distrib_counts = {}\n",
    "    for country in countries.tolist():\n",
    "        df = data.loc[data[\"Country Name\"] == country]\n",
    "        isp_list = df.loc[0:,\"ISP\"].drop_duplicates().tolist()\n",
    "        #country_dict[country] = isp_list\n",
    "        unique_counts[country] = len(isp_list)\n",
    "        \n",
    "        distrib_counts[country] = {}\n",
    "        for isp in isp_list:\n",
    "            selected = df.loc[df[\"ISP\"] == isp]\n",
    "            \n",
    "            ip_cnt = 0\n",
    "            for start,end in zip(selected[\"IP From\"],selected[\"IP To\"]):\n",
    "                ip_cnt = ip_cnt + end - start + 1 #+1 to make it inclusive\n",
    "                \n",
    "            distrib_counts[country][isp] = ip_cnt\n",
    "    delta_tm = time.time() - start_tm\n",
    "    m, s = divmod(delta_tm, 60)\n",
    "    h, m = divmod(m, 60)\n",
    "    print(filename + \" finished counting IPs in %d:%02d:%02d\" % (h, m, s))\n",
    "\n",
    "    #return (unique_counts, distrib_counts)\n",
    "    pickle.dump(distrib_counts,open(\"Results/mob_\"+filename.split(\"/\")[-1].split(\".\")[0]+\".p\",\"wb\"))\n",
    "    return distrib_counts"
   ]
  },
  {
   "cell_type": "code",
   "execution_count": 4,
   "metadata": {
    "collapsed": true
   },
   "outputs": [],
   "source": [
    "def ispByCountryNoMobile(filename):\n",
    "    start_tm = time.time()\n",
    "    labels=[\"IP From\",\"IP To\",\"Country Code\",\"Country Name\",\"Region Name\",\"City Name\",\"Latitude\",\"Longitude\",\n",
    "                \"Zipcode\",\"Time Zone\",\"ISP\",\"Domain\",\"Net speed\",\"IDD Code\",\"Area Code\",\"Weather Station Code\",\n",
    "                \"Weather Station Name\",\"MCC\",\"MNC\",\"Mobile Brand\",\"Elevation\",\"Usage Type (Reserved)\"]\n",
    "    data = pd.read_csv(filename,header=None,names=labels, usecols=[\"IP From\",\"IP To\",\"Country Name\",\"ISP\",\"Usage Type (Reserved)\"])\n",
    "    data = data.loc[data[\"Usage Type (Reserved)\"] != \"MOB\"]\n",
    "    \n",
    "    countries = data.loc[:,\"Country Name\"]\n",
    "    countries = countries.drop_duplicates()\n",
    "    #country_dict = {key:[] for key in countries.tolist()}\n",
    "\n",
    "    unique_counts = {}\n",
    "    distrib_counts = {}\n",
    "    for country in countries.tolist():\n",
    "        df = data.loc[data[\"Country Name\"] == country]\n",
    "        isp_list = df.loc[0:,\"ISP\"].drop_duplicates().tolist()\n",
    "        #country_dict[country] = isp_list\n",
    "        unique_counts[country] = len(isp_list)\n",
    "        \n",
    "        distrib_counts[country] = {}\n",
    "        for isp in isp_list:\n",
    "            selected = df.loc[df[\"ISP\"] == isp]\n",
    "            \n",
    "            ip_cnt = 0\n",
    "            for start,end in zip(selected[\"IP From\"],selected[\"IP To\"]):\n",
    "                ip_cnt = ip_cnt + end - start + 1 #+1 to make it inclusive\n",
    "                \n",
    "            distrib_counts[country][isp] = ip_cnt\n",
    "    delta_tm = time.time() - start_tm\n",
    "    m, s = divmod(delta_tm, 60)\n",
    "    h, m = divmod(m, 60)\n",
    "    print(filename + \" finished counting IPs in %d:%02d:%02d\" % (h, m, s))\n",
    "\n",
    "    #return (unique_counts, distrib_counts)\n",
    "    pickle.dump(distrib_counts,open(\"Results/no_mob_\"+filename.split(\"/\")[-1].split(\".\")[0]+\".p\",\"wb\"))\n",
    "    return distrib_counts"
   ]
  },
  {
   "cell_type": "code",
   "execution_count": 6,
   "metadata": {
    "collapsed": false
   },
   "outputs": [
    {
     "name": "stdout",
     "output_type": "stream",
     "text": [
      "Data/sample.txt finished counting IPs in 0:00:00\n",
      "Data/sample.txt finished counting IPs in 0:00:00\n"
     ]
    },
    {
     "data": {
      "text/plain": [
       "0"
      ]
     },
     "execution_count": 6,
     "metadata": {},
     "output_type": "execute_result"
    }
   ],
   "source": [
    "ispByCountryMobile(\"Data/sample.txt\")\n",
    "ispByCountryNoMobile(\"Data/sample.txt\")\n",
    "#result = ispByCountry(\"Data/Split/data_1.csv\")\n",
    "os.system('say \"your program has finished\"')\n",
    "#print(\"Done\")"
   ]
  },
  {
   "cell_type": "code",
   "execution_count": null,
   "metadata": {
    "collapsed": true
   },
   "outputs": [],
   "source": [
    "p = Pool()\n",
    "parts = p.map(ispByCountry,['Data/Split/data_2.csv','Data/Split/data_3.csv','Data/Split/data_4.csv','Data/Split/data_5.csv','Data/Split/data_6.csv','Data/Split/data_1.csv','Data/Split/data_7.csv'])\n",
    "print(\"Pool is done\")"
   ]
  },
  {
   "cell_type": "code",
   "execution_count": null,
   "metadata": {
    "collapsed": false
   },
   "outputs": [],
   "source": [
    "p.close()\n",
    "p.join()\n",
    "st_tm = time.time()\n",
    "result = merge.merge_dicts(parts)\n",
    "pickle.dump(result, open(\"Results/result.p\",\"wb\"))\n",
    "delta_tm = time.time() - st_tm\n",
    "m, s = divmod(delta_tm, 60)\n",
    "h, m = divmod(m, 60)\n",
    "print(\" finished in %d:%02d:%02d\" % (h, m, s))"
   ]
  },
  {
   "cell_type": "code",
   "execution_count": null,
   "metadata": {
    "collapsed": true
   },
   "outputs": [],
   "source": [
    "p = Pool()\n",
    "parts = p.map(ispByCountryMobile,['Data/Split/data_2.csv','Data/Split/data_3.csv','Data/Split/data_4.csv','Data/Split/data_5.csv','Data/Split/data_6.csv','Data/Split/data_1.csv','Data/Split/data_7.csv'])\n",
    "print(\"Pool is done\")\n",
    "p.close()\n",
    "p.join()\n",
    "st_tm = time.time()\n",
    "result = merge.merge_dicts(parts)\n",
    "pickle.dump(result, open(\"Results/mob_result.p\",\"wb\"))\n",
    "delta_tm = time.time() - st_tm\n",
    "m, s = divmod(delta_tm, 60)\n",
    "h, m = divmod(m, 60)\n",
    "print(\"Mobile finished in %d:%02d:%02d\" % (h, m, s))"
   ]
  },
  {
   "cell_type": "code",
   "execution_count": null,
   "metadata": {
    "collapsed": true
   },
   "outputs": [],
   "source": [
    "p = Pool()\n",
    "parts = p.map(ispByCountryNoMobile,['Data/Split/data_2.csv','Data/Split/data_3.csv','Data/Split/data_4.csv','Data/Split/data_5.csv','Data/Split/data_6.csv','Data/Split/data_1.csv','Data/Split/data_7.csv'])\n",
    "print(\"Pool is done\")\n",
    "p.close()\n",
    "p.join()\n",
    "st_tm = time.time()\n",
    "result = merge.merge_dicts(parts)\n",
    "pickle.dump(result, open(\"Results/no_mob_result.p\",\"wb\"))\n",
    "delta_tm = time.time() - st_tm\n",
    "m, s = divmod(delta_tm, 60)\n",
    "h, m = divmod(m, 60)\n",
    "print(\"No Mobile finished in %d:%02d:%02d\" % (h, m, s))"
   ]
  },
  {
   "cell_type": "code",
   "execution_count": null,
   "metadata": {
    "collapsed": true
   },
   "outputs": [],
   "source": []
  }
 ],
 "metadata": {
  "kernelspec": {
   "display_name": "Python 3",
   "language": "python",
   "name": "python3"
  },
  "language_info": {
   "codemirror_mode": {
    "name": "ipython",
    "version": 3
   },
   "file_extension": ".py",
   "mimetype": "text/x-python",
   "name": "python",
   "nbconvert_exporter": "python",
   "pygments_lexer": "ipython3",
   "version": "3.5.2"
  }
 },
 "nbformat": 4,
 "nbformat_minor": 0
}

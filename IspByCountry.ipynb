{
 "cells": [
  {
   "cell_type": "code",
   "execution_count": 3,
   "metadata": {
    "collapsed": true
   },
   "outputs": [],
   "source": [
    "import pandas as pd\n",
    "import os\n",
    "from multiprocessing import Pool\n",
    "import merge\n",
    "import pickle"
   ]
  },
  {
   "cell_type": "code",
   "execution_count": 12,
   "metadata": {
    "collapsed": true
   },
   "outputs": [],
   "source": [
    "def ispByCountry(filename):\n",
    "    labels=[\"IP From\",\"IP To\",\"Country Code\",\"Country Name\",\"Region Name\",\"City Name\",\"Latitude\",\"Longitude\",\n",
    "                \"Zipcode\",\"Time Zone\",\"ISP\",\"Domain\",\"Net speed\",\"IDD Code\",\"Area Code\",\"Weather Station Code\",\n",
    "                \"Weather Station Name\",\"MCC\",\"MNC\",\"Mobile Brand\",\"Elevation\",\"Usage Type (Reserved)\"]\n",
    "    data = pd.read_csv(\"Data/\"+filename,header=None,names=labels,skiprows=1, usecols=[\"IP From\",\"IP To\",\"Country Name\",\"ISP\"])\n",
    "    \n",
    "    countries = data.loc[:,\"Country Name\"]\n",
    "    countries = countries.drop_duplicates()\n",
    "    #country_dict = {key:[] for key in countries.tolist()}\n",
    "\n",
    "    unique_counts = {}\n",
    "    distrib_counts = {}\n",
    "    for country in countries.tolist():\n",
    "        df = data.loc[data[\"Country Name\"] == country]\n",
    "        isp_list = df.loc[0:,\"ISP\"].drop_duplicates().tolist()\n",
    "        #country_dict[country] = isp_list\n",
    "        unique_counts[country] = len(isp_list)\n",
    "        \n",
    "        distrib_counts[country] = {}\n",
    "        for isp in isp_list:\n",
    "            selected = df.loc[df[\"ISP\"] == isp]\n",
    "            \n",
    "            ip_cnt = 0\n",
    "            for start,end in zip(selected[\"IP From\"],selected[\"IP To\"]):\n",
    "                ip_cnt = ip_cnt + end - start + 1 #+1 to make it inclusive\n",
    "                \n",
    "            distrib_counts[country][isp] = ip_cnt\n",
    "    \n",
    "    print(filename + \" finished counting IPs\\n\")\n",
    "    #return (unique_counts, distrib_counts)\n",
    "    pickle.dump(distrib_counts,open(\"Results/\"+filename.split(\".\")[0]+\".p\",\"wb\"))\n",
    "    return distrib_counts"
   ]
  },
  {
   "cell_type": "code",
   "execution_count": 13,
   "metadata": {
    "collapsed": false
   },
   "outputs": [
    {
     "name": "stdout",
     "output_type": "stream",
     "text": [
      "sample.txt finished counting IPs\n",
      "\n",
      "Done\n"
     ]
    }
   ],
   "source": [
    "#result = ispByCountry(\"Data/DB24-IP-COUNTRY-REGION-CITY-LATITUDE-LONGITUDE-ZIPCODE-TIMEZONE-ISP-DOMAIN-NETSPEED-AREACODE-WEATHER-MOBILE-ELEVATION-USAGETYPE.CSV/IP-COUNTRY-REGION-CITY-LATITUDE-LONGITUDE-ZIPCODE-TIMEZONE-ISP-DOMAIN-NETSPEED-AREACODE-WEATHER-MOBILE-ELEVATION-USAGETYPE.CSV\")\n",
    "result = ispByCountry(\"sample.txt\")\n",
    "#os.system('say \"your program has finished\"')\n",
    "#pickle.dump(result, open(\"result.p\",\"wb\"))\n",
    "print(\"Done\")"
   ]
  },
  {
   "cell_type": "code",
   "execution_count": 6,
   "metadata": {
    "collapsed": false
   },
   "outputs": [
    {
     "name": "stdout",
     "output_type": "stream",
     "text": [
      "data_7.csv finished counting IPs\n",
      "\n",
      "data_5.csv finished counting IPs\n",
      "\n",
      "data_6.csv finished counting IPs\n",
      "\n",
      "data_3.csv finished counting IPs\n",
      "\n",
      "data_1.csv finished counting IPs\n",
      "\n",
      "data_4.csv finished counting IPs\n",
      "\n",
      "data_2.csv finished counting IPs\n",
      "\n",
      "Pool is done\n"
     ]
    },
    {
     "ename": "AttributeError",
     "evalue": "'Pool' object has no attribute 'stop'",
     "output_type": "error",
     "traceback": [
      "\u001b[0;31m---------------------------------------------------------------------------\u001b[0m",
      "\u001b[0;31mAttributeError\u001b[0m                            Traceback (most recent call last)",
      "\u001b[0;32m<ipython-input-6-11e5cd01f6d4>\u001b[0m in \u001b[0;36m<module>\u001b[0;34m()\u001b[0m\n\u001b[1;32m      2\u001b[0m \u001b[0mparts\u001b[0m \u001b[0;34m=\u001b[0m \u001b[0mp\u001b[0m\u001b[0;34m.\u001b[0m\u001b[0mmap\u001b[0m\u001b[0;34m(\u001b[0m\u001b[0mispByCountry\u001b[0m\u001b[0;34m,\u001b[0m\u001b[0;34m[\u001b[0m\u001b[0;34m'data_2.csv'\u001b[0m\u001b[0;34m,\u001b[0m\u001b[0;34m'data_3.csv'\u001b[0m\u001b[0;34m,\u001b[0m\u001b[0;34m'data_4.csv'\u001b[0m\u001b[0;34m,\u001b[0m\u001b[0;34m'data_5.csv'\u001b[0m\u001b[0;34m,\u001b[0m\u001b[0;34m'data_6.csv'\u001b[0m\u001b[0;34m,\u001b[0m\u001b[0;34m'data_1.csv'\u001b[0m\u001b[0;34m,\u001b[0m\u001b[0;34m'data_7.csv'\u001b[0m\u001b[0;34m]\u001b[0m\u001b[0;34m)\u001b[0m\u001b[0;34m\u001b[0m\u001b[0m\n\u001b[1;32m      3\u001b[0m \u001b[0mprint\u001b[0m\u001b[0;34m(\u001b[0m\u001b[0;34m\"Pool is done\"\u001b[0m\u001b[0;34m)\u001b[0m\u001b[0;34m\u001b[0m\u001b[0m\n\u001b[0;32m----> 4\u001b[0;31m \u001b[0mp\u001b[0m\u001b[0;34m.\u001b[0m\u001b[0mstop\u001b[0m\u001b[0;34m(\u001b[0m\u001b[0;34m)\u001b[0m\u001b[0;34m\u001b[0m\u001b[0m\n\u001b[0m\u001b[1;32m      5\u001b[0m \u001b[0mp\u001b[0m\u001b[0;34m.\u001b[0m\u001b[0mjoin\u001b[0m\u001b[0;34m(\u001b[0m\u001b[0;34m)\u001b[0m\u001b[0;34m\u001b[0m\u001b[0m\n\u001b[1;32m      6\u001b[0m \u001b[0mresult\u001b[0m \u001b[0;34m=\u001b[0m \u001b[0mmerge\u001b[0m\u001b[0;34m.\u001b[0m\u001b[0mmerge_dicts\u001b[0m\u001b[0;34m(\u001b[0m\u001b[0mparts\u001b[0m \u001b[0;34m+\u001b[0m \u001b[0;34m[\u001b[0m\u001b[0mtest\u001b[0m\u001b[0;34m]\u001b[0m\u001b[0;34m)\u001b[0m\u001b[0;34m\u001b[0m\u001b[0m\n",
      "\u001b[0;31mAttributeError\u001b[0m: 'Pool' object has no attribute 'stop'"
     ]
    }
   ],
   "source": [
    "p = Pool()\n",
    "parts = p.map(ispByCountry,['data_2.csv','data_3.csv','data_4.csv','data_5.csv','data_6.csv','data_1.csv','data_7.csv'])\n",
    "print(\"Pool is done\")"
   ]
  },
  {
   "cell_type": "code",
   "execution_count": null,
   "metadata": {
    "collapsed": true
   },
   "outputs": [],
   "source": [
    "p.close()\n",
    "p.join()\n",
    "result = merge.merge_dicts(parts + [test])\n",
    "pickle.dump(result, open(\"result.p\",\"wb\"))\n",
    "#result"
   ]
  }
 ],
 "metadata": {
  "kernelspec": {
   "display_name": "Python 3",
   "language": "python",
   "name": "python3"
  },
  "language_info": {
   "codemirror_mode": {
    "name": "ipython",
    "version": 3
   },
   "file_extension": ".py",
   "mimetype": "text/x-python",
   "name": "python",
   "nbconvert_exporter": "python",
   "pygments_lexer": "ipython3",
   "version": "3.5.2"
  }
 },
 "nbformat": 4,
 "nbformat_minor": 0
}
